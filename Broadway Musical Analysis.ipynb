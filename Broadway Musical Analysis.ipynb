{
 "cells": [
  {
   "cell_type": "markdown",
   "metadata": {},
   "source": [
    "# Broadway Musical Success Prediction\n",
    "\n",
    "This project aims to predict the success of a Broadway Musicals based off of data gathered within the first year of performance."
   ]
  },
  {
   "cell_type": "code",
   "execution_count": 82,
   "metadata": {
    "scrolled": true
   },
   "outputs": [
    {
     "name": "stdout",
     "output_type": "stream",
     "text": [
      "Populating the interactive namespace from numpy and matplotlib\n"
     ]
    },
    {
     "name": "stderr",
     "output_type": "stream",
     "text": [
      "/Users/zoemartiniak/anaconda3/lib/python3.6/site-packages/IPython/core/magics/pylab.py:160: UserWarning: pylab import has clobbered these variables: ['mod', 'load', 'f']\n",
      "`%matplotlib` prevents importing * from pylab and numpy\n",
      "  \"\\n`%matplotlib` prevents importing * from pylab and numpy\"\n"
     ]
    }
   ],
   "source": [
    "## Run in Python 3 \n",
    "from __future__ import print_function, division\n",
    "import os\n",
    "import sys\n",
    "import requests\n",
    "import urllib\n",
    "from functools import reduce\n",
    "\n",
    "## The Standards\n",
    "import pylab as pl\n",
    "import numpy as np\n",
    "import pandas as pd\n",
    "import seaborn as sns\n",
    "import matplotlib.pyplot as plt\n",
    "from scipy import stats\n",
    "pl.rcParams['font.size'] = 18\n",
    "\n",
    "## Statistical Modelling\n",
    "import statsmodels.api as sm\n",
    "import statsmodels.formula.api as smf\n",
    "from statsmodels.datasets.longley import load\n",
    "import sklearn.preprocessing as preprocessing\n",
    "from sklearn.ensemble  import RandomForestRegressor as rfr\n",
    "from sklearn.cross_validation import train_test_split\n",
    "from sklearn.metrics import confusion_matrix\n",
    "from sklearn.linear_model import LinearRegression\n",
    "\n",
    "%pylab inline"
   ]
  },
  {
   "cell_type": "code",
   "execution_count": 48,
   "metadata": {},
   "outputs": [],
   "source": [
    "def corr_matrix(df):\n",
    "    f, ax = pl.subplots(figsize=(10, 8))\n",
    "    corr = df.corr()\n",
    "    sns.heatmap(corr, mask=np.zeros_like(corr, dtype=np.bool), cmap=sns.diverging_palette(220, 10, as_cmap=True),\n",
    "            square=True, ax=ax)"
   ]
  },
  {
   "cell_type": "code",
   "execution_count": 197,
   "metadata": {},
   "outputs": [],
   "source": [
    "def feature_importance(X, y):\n",
    "    model = LinearRegression()\n",
    "    model.fit(X, y)\n",
    "    importance = model.coef_\n",
    "#     for i,v in enumerate(importance):\n",
    "#         print('Feature: %0d, Score: %.5f' % (i,v))\n",
    "#     plt.bar([x for x in range(len(importance))], \n",
    "#                importance)\n",
    "#     plt.title('Feature Importance')\n",
    "#     plt.ylabel('Score', size=13)\n",
    "#     plt.show()\n",
    "    print(pd.Series(model.coef_, index=X.columns)\n",
    "   .nlargest(20)\n",
    "   .plot(kind='barh' , title = 'Feature Importance Scores' ))\n",
    "    a = pd.Series(model.coef_, index=X.columns)\n",
    "    return a[a>0].index"
   ]
  },
  {
   "cell_type": "code",
   "execution_count": 220,
   "metadata": {},
   "outputs": [],
   "source": [
    "def fit_linear_regression(y_var, var_lists):\n",
    "    df.sort_values([y_var],inplace=True)\n",
    "\n",
    "    ols_results = pd.DataFrame(\n",
    "        index=[['rsquared','Intercept']+list(df.columns) ],\n",
    "        columns = range(len(var_lists)))\n",
    "\n",
    "    for n in range(len(var_lists)):\n",
    "        mod = smf.ols(formula = \n",
    "            '{} ~ {}'.format(y_var,\n",
    "                             reduce(lambda x, y: x + \" + \" + y,\n",
    "                            [i for i in var_lists[n]]))\n",
    "                  , data=df)\n",
    "        results = mod.fit()\n",
    "        ols_results[n]['rsquared'] = results.rsquared\n",
    "        for i in results.params.index:\n",
    "            ols_results[n][i] = results.params[i]\n",
    "\n",
    "    print(ols_results.dropna(how='all') )\n",
    "\n",
    "    #results1.summary()"
   ]
  },
  {
   "cell_type": "code",
   "execution_count": 15,
   "metadata": {},
   "outputs": [],
   "source": [
    "df = pd.read_excel('Data/2010-2019_broadway_musical_data.xlsx')\n",
    "df = df.set_index('ref')\n",
    "df['more_than_year'] = df['weeks'].apply(lambda x: \n",
    "                                        1 if x > 52 else 0)"
   ]
  },
  {
   "cell_type": "markdown",
   "metadata": {},
   "source": [
    "## Shows by ref #"
   ]
  },
  {
   "cell_type": "code",
   "execution_count": 17,
   "metadata": {
    "scrolled": true
   },
   "outputs": [
    {
     "name": "stdout",
     "output_type": "stream",
     "text": [
      "112  :  Oliver!\n",
      "134  :  The Book of Mormon\n",
      "99  :  Kinky Boots\n",
      "86  :  Aladdin\n",
      "89  :  Beautiful: The Carol King Musical\n",
      "13  :  Hamilton\n",
      "98  :  Matilda the Musical\n",
      "25  :  Waitress\n",
      "35  :  Dear Evan Hansen\n",
      "39  :  Come From Away\n",
      "120  :  Once\n",
      "127  :  Spider-Man Turn Off The Dark\n",
      "85  :  Les Misérables\n",
      "118  :  Newsies\n",
      "90  :  A Gentleman's Guide to Love and Murder\n",
      "52  :  Frozen\n",
      "46  :  Anastasia\n",
      "54  :  Mean Girls\n",
      "102  :  Cinderella\n",
      "16  :  On Your Feet!\n",
      "97  :  Motown the Musical\n",
      "10  :  Something Rotten!\n",
      "95  :  Pippin\n",
      "34  :  A Bronx Tale the Musical\n",
      "4  :  An American In Paris\n",
      "30  :  Cats\n",
      "48  :  The Band's Visit\n",
      "8  :  Fun Home\n",
      "81  :  Hedwig and the Angry Inch\n",
      "6  :  Finding Neverland\n",
      "129  :  Sister Act\n",
      "44  :  Hello, Dolly!\n",
      "135  :  Priscilla Queen of the Desert\n",
      "132  :  Anything Goes\n",
      "56  :  My Fair Lady\n",
      "7  :  The King and I\n",
      "108  :  Annie\n",
      "133  :  How to Succeed in Business Without Really Trying\n",
      "114  :  Nice Work If You Can Get It\n",
      "49  :  Once on This Island\n",
      "19  :  The Color Purple\n",
      "20  :  Fiddler on the Roof\n",
      "60  :  Pretty Woman: The Musical\n",
      "84  :  If/Then\n",
      "66  :  Ain't Too Proud - The Life and Times of the Temptations\n",
      "80  :  Cabaret\n",
      "68  :  Hadestown\n",
      "28  :  Cirque Du Soleil Paramour\n",
      "78  :  On the Town\n",
      "70  :  Beetlejuice\n",
      "40  :  Miss Saigon\n",
      "116  :  Evita\n",
      "33  :  Natasha, Pierre & The Great comet of 1812\n",
      "67  :  Oklahoma!\n",
      "50  :  Spongebob Squarepants, The Broadway Musical\n",
      "61  :  King Kong\n",
      "62  :  The Prom\n",
      "45  :  Charlie and the Chocolate Factory\n",
      "63  :  The Cher Show\n",
      "69  :  Tootsie\n",
      "121  :  Porgy and Bess\n",
      "57  :  Summer: The Donna Summer Musical\n",
      "91  :  After Midnight\n",
      "125  :  Godspell\n",
      "18  :  School of Rock - The Musical\n",
      "42  :  War Paint\n",
      "47  :  Bandstand\n",
      "71  :  Moulin Rouge! The Musical\n",
      "58  :  Head Over Heels\n",
      "87  :  Rocky\n",
      "55  :  Carousel\n",
      "64  :  Be More Chill\n",
      "43  :  Groundhog Day\n",
      "110  :  Bring It On: The Musical\n",
      "94  :  First Date\n",
      "131  :  Catch Me If You Can\n",
      "117  :  End of the Rainbow\n",
      "83  :  Bullets Over Broadway\n",
      "37  :  Sunset Boulevard\n",
      "126  :  Follies\n",
      "128  :  Baby It's You!\n",
      "2  :  On the Twentieth Century\n",
      "36  :  In Transit\n",
      "73  :  Tina: The Tina Turner Musical\n",
      "14  :  Spring Awakening\n",
      "109  :  Chaplin\n",
      "5  :  It Shoulda Been You\n",
      "106  :  The Mystery of Edwin Drood\n",
      "115  :  Ghost the Musical\n",
      "22  :  She Loves Me\n",
      "82  :  Violet\n",
      "51  :  Escape to Margaritaville\n",
      "65  :  Kiss Me, Kate\n",
      "119  :  Jesus Christ Superstar\n",
      "12  :  Amazing Grace\n",
      "31  :  Holiday Inn, The New Irving Berlin Musical\n",
      "17  :  Allegiance\n",
      "75  :  Jagged Little Pill\n",
      "23  :  Bright Star\n",
      "77  :  The Last Ship\n",
      "88  :  The Bridges of Madison County\n",
      "27  :  Shuffle Along, or the Making of the Musical Sensation of 1921 and All That Followed\n",
      "92  :  Big Fish\n",
      "72  :  The Lightning Thief: The Percy Jackson Musical\n",
      "1  :  Honeymoon in Vegas\n",
      "3  :  Gigi\n",
      "15  :  Dames at Sea\n",
      "32  :  Falsettos\n",
      "21  :  Disaster!\n",
      "93  :  Soul Doctor\n",
      "38  :  Sunday in the Park with George\n",
      "107  :  Elf\n",
      "11  :  The Visit\n",
      "123  :  On A Clear Day You Can See Forever\n",
      "76  :  Side Show\n",
      "41  :  Amélie, A New Musical\n",
      "74  :  A Christmas Carol\n",
      "24  :  American Psycho\n",
      "103  :  Golden Boy\n",
      "104  :  A Christmas Story, The Musical\n",
      "59  :  Gettin' The Band Back Together\n",
      "26  :  Tuck Everylasting\n",
      "53  :  Rocktopia\n",
      "101  :  Breakfast at Tiffany's\n",
      "79  :  Holler If Ya Hear Me\n",
      "124  :  Bonnnie & Clyde\n",
      "130  :  Wonderland\n",
      "122  :  Lysistrata Jones\n",
      "96  :  Jekyll & Hyde\n",
      "105  :  Scandalous: The Life and Trials of Aimee Semple Mcpherson\n",
      "100  :  Hands on a Hardbody\n",
      "111  :  Fela!\n",
      "9  :  Doctor Zhivago\n",
      "29  :  Carousel\n",
      "113  :  Leap of Faith\n"
     ]
    }
   ],
   "source": [
    "for ref in df.index:\n",
    "    print(ref, ' : ' , df['Title of Show'][ref])"
   ]
  },
  {
   "cell_type": "code",
   "execution_count": 18,
   "metadata": {},
   "outputs": [],
   "source": [
    "cols_to_drop = ['Title of Show', 'open', 'close',\n",
    "        'tourweeks', 'touropen', 'tourclose', 'tour', 'tourgross', \n",
    "        'intl','intlweeks', 'intlopen', 'intlclose', 'intlnum',\n",
    "        'celeb','Producer', 'capcost','cast','Social',  \n",
    "        'popen','pclose','pgross','pavggrosspoten', \n",
    "        'fopen', 'fclose','fgross','favggrosspoten','ftotalseats',\n",
    "        'tweeks','tnumseats', 'ttotalseats','tnum']\n",
    "df = df.drop(columns=cols_to_drop)"
   ]
  },
  {
   "cell_type": "code",
   "execution_count": 19,
   "metadata": {},
   "outputs": [],
   "source": [
    "cols_to_test = ['num','numseats']"
   ]
  },
  {
   "cell_type": "code",
   "execution_count": 91,
   "metadata": {},
   "outputs": [],
   "source": [
    "df = df.dropna(axis = 0  )#, subset = ['weeks','favggross','tonynom'])"
   ]
  },
  {
   "cell_type": "code",
   "execution_count": 21,
   "metadata": {},
   "outputs": [],
   "source": [
    "df = df[df['tonynom'] != '*']\n",
    "df = df[df['pweeks'] != '*']"
   ]
  },
  {
   "cell_type": "code",
   "execution_count": 22,
   "metadata": {},
   "outputs": [],
   "source": [
    "for c in df.columns:\n",
    "    df[c] = df[c].astype(float)"
   ]
  },
  {
   "cell_type": "code",
   "execution_count": 234,
   "metadata": {},
   "outputs": [
    {
     "data": {
      "text/html": [
       "<div>\n",
       "<style scoped>\n",
       "    .dataframe tbody tr th:only-of-type {\n",
       "        vertical-align: middle;\n",
       "    }\n",
       "\n",
       "    .dataframe tbody tr th {\n",
       "        vertical-align: top;\n",
       "    }\n",
       "\n",
       "    .dataframe thead th {\n",
       "        text-align: right;\n",
       "    }\n",
       "</style>\n",
       "<table border=\"1\" class=\"dataframe\">\n",
       "  <thead>\n",
       "    <tr style=\"text-align: right;\">\n",
       "      <th></th>\n",
       "      <th>weeks</th>\n",
       "      <th>tonynom</th>\n",
       "      <th>tonywin</th>\n",
       "      <th>bestnom</th>\n",
       "      <th>bestwin</th>\n",
       "      <th>revival</th>\n",
       "      <th>original</th>\n",
       "      <th>family</th>\n",
       "      <th>jukebox</th>\n",
       "      <th>based</th>\n",
       "      <th>westend</th>\n",
       "      <th>bway</th>\n",
       "      <th>pweeks</th>\n",
       "      <th>pavggross</th>\n",
       "    </tr>\n",
       "  </thead>\n",
       "  <tbody>\n",
       "    <tr>\n",
       "      <th>count</th>\n",
       "      <td>102.000000</td>\n",
       "      <td>102.000000</td>\n",
       "      <td>102.000000</td>\n",
       "      <td>102.000000</td>\n",
       "      <td>102.000000</td>\n",
       "      <td>102.000000</td>\n",
       "      <td>102.000000</td>\n",
       "      <td>102.000000</td>\n",
       "      <td>102.000000</td>\n",
       "      <td>102.000000</td>\n",
       "      <td>102.000000</td>\n",
       "      <td>102.000000</td>\n",
       "      <td>102.000000</td>\n",
       "      <td>1.020000e+02</td>\n",
       "    </tr>\n",
       "    <tr>\n",
       "      <th>mean</th>\n",
       "      <td>59.528347</td>\n",
       "      <td>4.598039</td>\n",
       "      <td>1.205882</td>\n",
       "      <td>0.401961</td>\n",
       "      <td>0.117647</td>\n",
       "      <td>0.333333</td>\n",
       "      <td>0.666667</td>\n",
       "      <td>0.196078</td>\n",
       "      <td>0.088235</td>\n",
       "      <td>0.578431</td>\n",
       "      <td>0.058824</td>\n",
       "      <td>0.941176</td>\n",
       "      <td>3.627451</td>\n",
       "      <td>5.784465e+05</td>\n",
       "    </tr>\n",
       "    <tr>\n",
       "      <th>std</th>\n",
       "      <td>76.368520</td>\n",
       "      <td>4.259549</td>\n",
       "      <td>2.330760</td>\n",
       "      <td>0.492715</td>\n",
       "      <td>0.323781</td>\n",
       "      <td>0.473732</td>\n",
       "      <td>0.473732</td>\n",
       "      <td>0.398989</td>\n",
       "      <td>0.285037</td>\n",
       "      <td>0.496249</td>\n",
       "      <td>0.236456</td>\n",
       "      <td>0.236456</td>\n",
       "      <td>2.563729</td>\n",
       "      <td>2.844938e+05</td>\n",
       "    </tr>\n",
       "    <tr>\n",
       "      <th>min</th>\n",
       "      <td>2.714286</td>\n",
       "      <td>0.000000</td>\n",
       "      <td>0.000000</td>\n",
       "      <td>0.000000</td>\n",
       "      <td>0.000000</td>\n",
       "      <td>0.000000</td>\n",
       "      <td>0.000000</td>\n",
       "      <td>0.000000</td>\n",
       "      <td>0.000000</td>\n",
       "      <td>0.000000</td>\n",
       "      <td>0.000000</td>\n",
       "      <td>0.000000</td>\n",
       "      <td>1.000000</td>\n",
       "      <td>1.113072e+05</td>\n",
       "    </tr>\n",
       "    <tr>\n",
       "      <th>25%</th>\n",
       "      <td>13.571429</td>\n",
       "      <td>1.000000</td>\n",
       "      <td>0.000000</td>\n",
       "      <td>0.000000</td>\n",
       "      <td>0.000000</td>\n",
       "      <td>0.000000</td>\n",
       "      <td>0.000000</td>\n",
       "      <td>0.000000</td>\n",
       "      <td>0.000000</td>\n",
       "      <td>0.000000</td>\n",
       "      <td>0.000000</td>\n",
       "      <td>1.000000</td>\n",
       "      <td>3.000000</td>\n",
       "      <td>3.443748e+05</td>\n",
       "    </tr>\n",
       "    <tr>\n",
       "      <th>50%</th>\n",
       "      <td>36.785714</td>\n",
       "      <td>3.500000</td>\n",
       "      <td>0.000000</td>\n",
       "      <td>0.000000</td>\n",
       "      <td>0.000000</td>\n",
       "      <td>0.000000</td>\n",
       "      <td>1.000000</td>\n",
       "      <td>0.000000</td>\n",
       "      <td>0.000000</td>\n",
       "      <td>1.000000</td>\n",
       "      <td>0.000000</td>\n",
       "      <td>1.000000</td>\n",
       "      <td>3.000000</td>\n",
       "      <td>5.484690e+05</td>\n",
       "    </tr>\n",
       "    <tr>\n",
       "      <th>75%</th>\n",
       "      <td>72.175357</td>\n",
       "      <td>8.000000</td>\n",
       "      <td>1.000000</td>\n",
       "      <td>1.000000</td>\n",
       "      <td>0.000000</td>\n",
       "      <td>1.000000</td>\n",
       "      <td>1.000000</td>\n",
       "      <td>0.000000</td>\n",
       "      <td>0.000000</td>\n",
       "      <td>1.000000</td>\n",
       "      <td>0.000000</td>\n",
       "      <td>1.000000</td>\n",
       "      <td>4.000000</td>\n",
       "      <td>7.291825e+05</td>\n",
       "    </tr>\n",
       "    <tr>\n",
       "      <th>max</th>\n",
       "      <td>466.430000</td>\n",
       "      <td>16.000000</td>\n",
       "      <td>11.000000</td>\n",
       "      <td>1.000000</td>\n",
       "      <td>1.000000</td>\n",
       "      <td>1.000000</td>\n",
       "      <td>1.000000</td>\n",
       "      <td>1.000000</td>\n",
       "      <td>1.000000</td>\n",
       "      <td>1.000000</td>\n",
       "      <td>1.000000</td>\n",
       "      <td>1.000000</td>\n",
       "      <td>25.000000</td>\n",
       "      <td>1.360588e+06</td>\n",
       "    </tr>\n",
       "  </tbody>\n",
       "</table>\n",
       "</div>"
      ],
      "text/plain": [
       "            weeks     tonynom     tonywin     bestnom     bestwin     revival  \\\n",
       "count  102.000000  102.000000  102.000000  102.000000  102.000000  102.000000   \n",
       "mean    59.528347    4.598039    1.205882    0.401961    0.117647    0.333333   \n",
       "std     76.368520    4.259549    2.330760    0.492715    0.323781    0.473732   \n",
       "min      2.714286    0.000000    0.000000    0.000000    0.000000    0.000000   \n",
       "25%     13.571429    1.000000    0.000000    0.000000    0.000000    0.000000   \n",
       "50%     36.785714    3.500000    0.000000    0.000000    0.000000    0.000000   \n",
       "75%     72.175357    8.000000    1.000000    1.000000    0.000000    1.000000   \n",
       "max    466.430000   16.000000   11.000000    1.000000    1.000000    1.000000   \n",
       "\n",
       "         original      family     jukebox       based     westend        bway  \\\n",
       "count  102.000000  102.000000  102.000000  102.000000  102.000000  102.000000   \n",
       "mean     0.666667    0.196078    0.088235    0.578431    0.058824    0.941176   \n",
       "std      0.473732    0.398989    0.285037    0.496249    0.236456    0.236456   \n",
       "min      0.000000    0.000000    0.000000    0.000000    0.000000    0.000000   \n",
       "25%      0.000000    0.000000    0.000000    0.000000    0.000000    1.000000   \n",
       "50%      1.000000    0.000000    0.000000    1.000000    0.000000    1.000000   \n",
       "75%      1.000000    0.000000    0.000000    1.000000    0.000000    1.000000   \n",
       "max      1.000000    1.000000    1.000000    1.000000    1.000000    1.000000   \n",
       "\n",
       "           pweeks     pavggross  \n",
       "count  102.000000  1.020000e+02  \n",
       "mean     3.627451  5.784465e+05  \n",
       "std      2.563729  2.844938e+05  \n",
       "min      1.000000  1.113072e+05  \n",
       "25%      3.000000  3.443748e+05  \n",
       "50%      3.000000  5.484690e+05  \n",
       "75%      4.000000  7.291825e+05  \n",
       "max     25.000000  1.360588e+06  "
      ]
     },
     "execution_count": 234,
     "metadata": {},
     "output_type": "execute_result"
    }
   ],
   "source": [
    "df[df.columns[:14]].describe()"
   ]
  },
  {
   "cell_type": "code",
   "execution_count": 235,
   "metadata": {},
   "outputs": [
    {
     "data": {
      "text/html": [
       "<div>\n",
       "<style scoped>\n",
       "    .dataframe tbody tr th:only-of-type {\n",
       "        vertical-align: middle;\n",
       "    }\n",
       "\n",
       "    .dataframe tbody tr th {\n",
       "        vertical-align: top;\n",
       "    }\n",
       "\n",
       "    .dataframe thead th {\n",
       "        text-align: right;\n",
       "    }\n",
       "</style>\n",
       "<table border=\"1\" class=\"dataframe\">\n",
       "  <thead>\n",
       "    <tr style=\"text-align: right;\">\n",
       "      <th></th>\n",
       "      <th>pnumseats</th>\n",
       "      <th>ptotalseats</th>\n",
       "      <th>ppercentseats</th>\n",
       "      <th>pnum</th>\n",
       "      <th>fweeks</th>\n",
       "      <th>favggross</th>\n",
       "      <th>fnumseats</th>\n",
       "      <th>fpercentseats</th>\n",
       "      <th>fnum</th>\n",
       "      <th>tgross</th>\n",
       "      <th>tavggross</th>\n",
       "      <th>tavggrosspoten</th>\n",
       "      <th>tpercentseats</th>\n",
       "      <th>more_than_year</th>\n",
       "    </tr>\n",
       "  </thead>\n",
       "  <tbody>\n",
       "    <tr>\n",
       "      <th>count</th>\n",
       "      <td>102.000000</td>\n",
       "      <td>1.020000e+02</td>\n",
       "      <td>102.000000</td>\n",
       "      <td>102.000000</td>\n",
       "      <td>102.000000</td>\n",
       "      <td>1.020000e+02</td>\n",
       "      <td>102.000000</td>\n",
       "      <td>102.000000</td>\n",
       "      <td>102.000000</td>\n",
       "      <td>1.020000e+02</td>\n",
       "      <td>1.020000e+02</td>\n",
       "      <td>102.000000</td>\n",
       "      <td>102.000000</td>\n",
       "      <td>102.000000</td>\n",
       "    </tr>\n",
       "    <tr>\n",
       "      <th>mean</th>\n",
       "      <td>26995.470588</td>\n",
       "      <td>9.068537e+04</td>\n",
       "      <td>0.876765</td>\n",
       "      <td>24.245098</td>\n",
       "      <td>32.941176</td>\n",
       "      <td>7.582252e+05</td>\n",
       "      <td>284290.852941</td>\n",
       "      <td>0.808627</td>\n",
       "      <td>258.088235</td>\n",
       "      <td>6.486181e+07</td>\n",
       "      <td>7.230610e+05</td>\n",
       "      <td>0.598949</td>\n",
       "      <td>0.808431</td>\n",
       "      <td>0.362745</td>\n",
       "    </tr>\n",
       "    <tr>\n",
       "      <th>std</th>\n",
       "      <td>31412.332796</td>\n",
       "      <td>6.097292e+05</td>\n",
       "      <td>0.136796</td>\n",
       "      <td>18.441471</td>\n",
       "      <td>18.735693</td>\n",
       "      <td>3.652195e+05</td>\n",
       "      <td>200199.231565</td>\n",
       "      <td>0.136040</td>\n",
       "      <td>150.185173</td>\n",
       "      <td>1.113764e+08</td>\n",
       "      <td>3.735858e+05</td>\n",
       "      <td>0.212265</td>\n",
       "      <td>0.118211</td>\n",
       "      <td>0.483166</td>\n",
       "    </tr>\n",
       "    <tr>\n",
       "      <th>min</th>\n",
       "      <td>957.000000</td>\n",
       "      <td>9.570000e+02</td>\n",
       "      <td>0.000000</td>\n",
       "      <td>1.000000</td>\n",
       "      <td>4.000000</td>\n",
       "      <td>1.483563e+05</td>\n",
       "      <td>24122.000000</td>\n",
       "      <td>0.480000</td>\n",
       "      <td>26.000000</td>\n",
       "      <td>1.209478e+06</td>\n",
       "      <td>1.492661e+05</td>\n",
       "      <td>0.196700</td>\n",
       "      <td>0.520000</td>\n",
       "      <td>0.000000</td>\n",
       "    </tr>\n",
       "    <tr>\n",
       "      <th>25%</th>\n",
       "      <td>15366.500000</td>\n",
       "      <td>1.883200e+04</td>\n",
       "      <td>0.820000</td>\n",
       "      <td>17.000000</td>\n",
       "      <td>15.000000</td>\n",
       "      <td>5.064305e+05</td>\n",
       "      <td>89289.250000</td>\n",
       "      <td>0.720000</td>\n",
       "      <td>113.000000</td>\n",
       "      <td>8.387313e+06</td>\n",
       "      <td>4.666444e+05</td>\n",
       "      <td>0.451300</td>\n",
       "      <td>0.730000</td>\n",
       "      <td>0.000000</td>\n",
       "    </tr>\n",
       "    <tr>\n",
       "      <th>50%</th>\n",
       "      <td>22073.000000</td>\n",
       "      <td>2.636650e+04</td>\n",
       "      <td>0.915000</td>\n",
       "      <td>22.000000</td>\n",
       "      <td>38.500000</td>\n",
       "      <td>7.266409e+05</td>\n",
       "      <td>277024.500000</td>\n",
       "      <td>0.820000</td>\n",
       "      <td>303.500000</td>\n",
       "      <td>2.858249e+07</td>\n",
       "      <td>7.093264e+05</td>\n",
       "      <td>0.585800</td>\n",
       "      <td>0.820000</td>\n",
       "      <td>0.000000</td>\n",
       "    </tr>\n",
       "    <tr>\n",
       "      <th>75%</th>\n",
       "      <td>31270.750000</td>\n",
       "      <td>3.436350e+04</td>\n",
       "      <td>0.970000</td>\n",
       "      <td>26.750000</td>\n",
       "      <td>52.000000</td>\n",
       "      <td>9.843260e+05</td>\n",
       "      <td>449417.000000</td>\n",
       "      <td>0.920000</td>\n",
       "      <td>414.000000</td>\n",
       "      <td>6.733917e+07</td>\n",
       "      <td>8.914220e+05</td>\n",
       "      <td>0.717950</td>\n",
       "      <td>0.900000</td>\n",
       "      <td>1.000000</td>\n",
       "    </tr>\n",
       "    <tr>\n",
       "      <th>max</th>\n",
       "      <td>314578.000000</td>\n",
       "      <td>6.179280e+06</td>\n",
       "      <td>1.030000</td>\n",
       "      <td>173.000000</td>\n",
       "      <td>52.000000</td>\n",
       "      <td>1.745930e+06</td>\n",
       "      <td>723672.000000</td>\n",
       "      <td>1.030000</td>\n",
       "      <td>417.000000</td>\n",
       "      <td>6.596044e+08</td>\n",
       "      <td>2.674357e+06</td>\n",
       "      <td>1.150900</td>\n",
       "      <td>1.020000</td>\n",
       "      <td>1.000000</td>\n",
       "    </tr>\n",
       "  </tbody>\n",
       "</table>\n",
       "</div>"
      ],
      "text/plain": [
       "           pnumseats   ptotalseats  ppercentseats        pnum      fweeks  \\\n",
       "count     102.000000  1.020000e+02     102.000000  102.000000  102.000000   \n",
       "mean    26995.470588  9.068537e+04       0.876765   24.245098   32.941176   \n",
       "std     31412.332796  6.097292e+05       0.136796   18.441471   18.735693   \n",
       "min       957.000000  9.570000e+02       0.000000    1.000000    4.000000   \n",
       "25%     15366.500000  1.883200e+04       0.820000   17.000000   15.000000   \n",
       "50%     22073.000000  2.636650e+04       0.915000   22.000000   38.500000   \n",
       "75%     31270.750000  3.436350e+04       0.970000   26.750000   52.000000   \n",
       "max    314578.000000  6.179280e+06       1.030000  173.000000   52.000000   \n",
       "\n",
       "          favggross      fnumseats  fpercentseats        fnum        tgross  \\\n",
       "count  1.020000e+02     102.000000     102.000000  102.000000  1.020000e+02   \n",
       "mean   7.582252e+05  284290.852941       0.808627  258.088235  6.486181e+07   \n",
       "std    3.652195e+05  200199.231565       0.136040  150.185173  1.113764e+08   \n",
       "min    1.483563e+05   24122.000000       0.480000   26.000000  1.209478e+06   \n",
       "25%    5.064305e+05   89289.250000       0.720000  113.000000  8.387313e+06   \n",
       "50%    7.266409e+05  277024.500000       0.820000  303.500000  2.858249e+07   \n",
       "75%    9.843260e+05  449417.000000       0.920000  414.000000  6.733917e+07   \n",
       "max    1.745930e+06  723672.000000       1.030000  417.000000  6.596044e+08   \n",
       "\n",
       "          tavggross  tavggrosspoten  tpercentseats  more_than_year  \n",
       "count  1.020000e+02      102.000000     102.000000      102.000000  \n",
       "mean   7.230610e+05        0.598949       0.808431        0.362745  \n",
       "std    3.735858e+05        0.212265       0.118211        0.483166  \n",
       "min    1.492661e+05        0.196700       0.520000        0.000000  \n",
       "25%    4.666444e+05        0.451300       0.730000        0.000000  \n",
       "50%    7.093264e+05        0.585800       0.820000        0.000000  \n",
       "75%    8.914220e+05        0.717950       0.900000        1.000000  \n",
       "max    2.674357e+06        1.150900       1.020000        1.000000  "
      ]
     },
     "execution_count": 235,
     "metadata": {},
     "output_type": "execute_result"
    }
   ],
   "source": [
    "df[df.columns[14:]].describe()"
   ]
  },
  {
   "cell_type": "code",
   "execution_count": 93,
   "metadata": {},
   "outputs": [
    {
     "data": {
      "image/png": "[encoded data removed]",
      "text/plain": [
       "<Figure size 720x576 with 2 Axes>"
      ]
     },
     "metadata": {},
     "output_type": "display_data"
    }
   ],
   "source": [
    "corr_matrix(df)"
   ]
  },
  {
   "cell_type": "code",
   "execution_count": 65,
   "metadata": {},
   "outputs": [],
   "source": [
    "y_vars = ['weeks', 'tgross',\n",
    "       'tavggross', 'tavggrosspoten', 'tpercentseats','more_than_year']"
   ]
  },
  {
   "cell_type": "code",
   "execution_count": 238,
   "metadata": {},
   "outputs": [],
   "source": [
    "first_run = ['tonynom', 'tonywin', 'bestnom', 'bestwin',\n",
    "        'pweeks', 'pavggross', 'pnumseats', 'ppercentseats',\n",
    "         'fweeks', 'favggross',  'fnumseats', 'fpercentseats',\n",
    "       'original', 'family', 'jukebox', 'based']\n",
    "\n",
    "genre = ['original', 'family', 'jukebox', 'based']"
   ]
  },
  {
   "cell_type": "code",
   "execution_count": 66,
   "metadata": {
    "scrolled": true
   },
   "outputs": [
    {
     "data": {
      "image/png": "[encoded data removed]",
      "text/plain": [
       "<Figure size 720x576 with 2 Axes>"
      ]
     },
     "metadata": {},
     "output_type": "display_data"
    }
   ],
   "source": [
    "corr_matrix(df[first_run+y_vars])"
   ]
  },
  {
   "cell_type": "code",
   "execution_count": 80,
   "metadata": {},
   "outputs": [],
   "source": [
    "second_run = ['tonynom', 'tonywin', 'bestnom', 'bestwin',\n",
    "        'pavggross', 'pnumseats', 'ppercentseats', 'pnum',\n",
    "         'favggross',  'fnumseats', 'fpercentseats', 'fnum',\n",
    "       'original', 'family', 'jukebox', 'based']"
   ]
  },
  {
   "cell_type": "code",
   "execution_count": 68,
   "metadata": {},
   "outputs": [],
   "source": [
    "essential_vars = ['tonynom', 'tonywin', 'bestnom', 'bestwin',\n",
    "        'pweeks', 'pavggross', 'ptotalseats', 'pnum', \n",
    "         'fweeks', 'favggross']\n",
    "\n",
    "genre = ['revival','family', 'jukebox', 'based']"
   ]
  },
  {
   "cell_type": "markdown",
   "metadata": {},
   "source": [
    "# Weeks"
   ]
  },
  {
   "cell_type": "code",
   "execution_count": 202,
   "metadata": {},
   "outputs": [
    {
     "name": "stdout",
     "output_type": "stream",
     "text": [
      "AxesSubplot(0.125,0.125;0.775x0.755)\n"
     ]
    },
    {
     "data": {
      "image/png": "[encoded data removed]",
      "text/plain": [
       "<Figure size 432x288 with 1 Axes>"
      ]
     },
     "metadata": {},
     "output_type": "display_data"
    }
   ],
   "source": [
    "y = df['weeks']\n",
    "X1, X2 = df[first_run], df[second_run]\n",
    "fi1 = feature_importance(X1, y)"
   ]
  },
  {
   "cell_type": "code",
   "execution_count": 203,
   "metadata": {},
   "outputs": [
    {
     "name": "stdout",
     "output_type": "stream",
     "text": [
      "AxesSubplot(0.125,0.125;0.775x0.755)\n"
     ]
    },
    {
     "data": {
      "image/png": "[encoded data removed]",
      "text/plain": [
       "<Figure size 432x288 with 1 Axes>"
      ]
     },
     "metadata": {},
     "output_type": "display_data"
    }
   ],
   "source": [
    "X2 = df[second_run]\n",
    "fi2 = feature_importance(X2, y)"
   ]
  },
  {
   "cell_type": "code",
   "execution_count": 222,
   "metadata": {},
   "outputs": [
    {
     "name": "stdout",
     "output_type": "stream",
     "text": [
      "                         0            1            2            3\n",
      "rsquared          0.631245     0.659294     0.595574     0.599297\n",
      "Intercept         -81.5247     -87.5826     -60.1435     -56.0339\n",
      "tonynom           -3.80509      -3.9351          NaN          NaN\n",
      "tonywin            12.3252      13.1864      9.38361      10.1253\n",
      "bestnom            8.84728      5.90204      2.42909      2.76302\n",
      "bestwin            7.77436     0.286944      8.42162          NaN\n",
      "original           9.14787      4.58508      10.3397      10.3881\n",
      "family            -8.46205     -8.76572          NaN          NaN\n",
      "jukebox            13.5679      13.5927      12.6467      10.7023\n",
      "based             -3.87856      -2.0221          NaN     -4.63276\n",
      "pweeks             20.8825          NaN      3.03746          NaN\n",
      "pavggross     -3.96073e-05 -4.89562e-05 -6.26204e-05 -6.49449e-05\n",
      "pnumseats      -0.00165192  -0.00184984          NaN          NaN\n",
      "ppercentseats      -45.942     -29.5425          NaN          NaN\n",
      "pnum                   NaN      3.22495          NaN     0.493448\n",
      "fweeks            -1.05845          NaN          NaN          NaN\n",
      "favggross      3.72875e-05  3.33834e-05  5.56078e-05   5.9203e-05\n",
      "fnumseats      0.000304846  0.000373144  0.000148188  0.000146765\n",
      "fpercentseats      108.563      116.303       48.592      44.5718\n",
      "fnum                   NaN    -0.209002          NaN          NaN\n"
     ]
    },
    {
     "name": "stderr",
     "output_type": "stream",
     "text": [
      "/Users/zoemartiniak/anaconda3/lib/python3.6/site-packages/ipykernel_launcher.py:2: SettingWithCopyWarning: \n",
      "A value is trying to be set on a copy of a slice from a DataFrame\n",
      "\n",
      "See the caveats in the documentation: https://pandas.pydata.org/pandas-docs/stable/user_guide/indexing.html#returning-a-view-versus-a-copy\n",
      "  \n"
     ]
    }
   ],
   "source": [
    "fit_linear_regression('weeks',   \n",
    "            var_lists = [first_run, second_run, fi1, fi2])"
   ]
  },
  {
   "cell_type": "markdown",
   "metadata": {},
   "source": [
    "# Total Gross Revenue"
   ]
  },
  {
   "cell_type": "code",
   "execution_count": 223,
   "metadata": {},
   "outputs": [
    {
     "name": "stdout",
     "output_type": "stream",
     "text": [
      "AxesSubplot(0.125,0.125;0.775x0.755)\n"
     ]
    },
    {
     "data": {
      "image/png": "[encoded data removed]",
      "text/plain": [
       "<Figure size 432x288 with 1 Axes>"
      ]
     },
     "metadata": {},
     "output_type": "display_data"
    }
   ],
   "source": [
    "y = df['tgross']\n",
    "X1, X2 = df[first_run], df[second_run]\n",
    "fi1 = feature_importance(X1, y)"
   ]
  },
  {
   "cell_type": "code",
   "execution_count": 224,
   "metadata": {},
   "outputs": [
    {
     "name": "stdout",
     "output_type": "stream",
     "text": [
      "AxesSubplot(0.125,0.125;0.775x0.755)\n"
     ]
    },
    {
     "data": {
      "image/png": "[encoded data removed]",
      "text/plain": [
       "<Figure size 432x288 with 1 Axes>"
      ]
     },
     "metadata": {},
     "output_type": "display_data"
    }
   ],
   "source": [
    "X2 = df[second_run]\n",
    "fi2 = feature_importance(X2, y)"
   ]
  },
  {
   "cell_type": "code",
   "execution_count": 225,
   "metadata": {},
   "outputs": [
    {
     "name": "stdout",
     "output_type": "stream",
     "text": [
      "                         0            1            2            3\n",
      "rsquared          0.618203      0.61868     0.577775     0.579257\n",
      "Intercept     -9.99373e+07  -9.4814e+07 -5.31058e+07 -5.35406e+07\n",
      "tonynom       -5.88859e+06 -6.67979e+06          NaN          NaN\n",
      "tonywin        2.52348e+07  2.67535e+07  1.86587e+07  1.79501e+07\n",
      "bestnom        1.93949e+07  2.04299e+07  4.57924e+06  3.17398e+06\n",
      "bestwin         7.7912e+06 -2.26493e+07 -7.06148e+06          NaN\n",
      "original       8.63067e+06  1.11911e+07  2.07889e+07  2.00967e+07\n",
      "family        -1.28888e+07 -8.79616e+06          NaN          NaN\n",
      "jukebox        4.49602e+06      51460.2 -8.53574e+06  -8.1137e+06\n",
      "based         -3.05575e+06  3.28435e+06          NaN   1.2583e+06\n",
      "pweeks         1.95536e+07          NaN  2.62788e+06          NaN\n",
      "pavggross          19.9018      1.97229     -19.3479      -24.407\n",
      "pnumseats         -1618.69     -1494.03          NaN          NaN\n",
      "ppercentseats -3.71093e+07 -3.32776e+07          NaN          NaN\n",
      "pnum                   NaN  2.62342e+06          NaN       444892\n",
      "fweeks        -3.99601e+06          NaN          NaN          NaN\n",
      "favggross            52.46      89.2583      145.504      148.751\n",
      "fnumseats          514.646      341.889      53.8091      55.2517\n",
      "fpercentseats  1.11567e+08  7.12406e+07 -5.26962e+07 -5.32896e+07\n",
      "fnum                   NaN      -281989          NaN          NaN\n"
     ]
    },
    {
     "name": "stderr",
     "output_type": "stream",
     "text": [
      "/Users/zoemartiniak/anaconda3/lib/python3.6/site-packages/ipykernel_launcher.py:2: SettingWithCopyWarning: \n",
      "A value is trying to be set on a copy of a slice from a DataFrame\n",
      "\n",
      "See the caveats in the documentation: https://pandas.pydata.org/pandas-docs/stable/user_guide/indexing.html#returning-a-view-versus-a-copy\n",
      "  \n"
     ]
    }
   ],
   "source": [
    "fit_linear_regression('tgross',   \n",
    "            var_lists = [first_run, second_run, fi1, fi2])"
   ]
  },
  {
   "cell_type": "markdown",
   "metadata": {},
   "source": [
    "# Other Y Variables"
   ]
  },
  {
   "cell_type": "code",
   "execution_count": 226,
   "metadata": {},
   "outputs": [
    {
     "data": {
      "text/plain": [
       "['weeks',\n",
       " 'tgross',\n",
       " 'tavggross',\n",
       " 'tavggrosspoten',\n",
       " 'tpercentseats',\n",
       " 'more_than_year']"
      ]
     },
     "execution_count": 226,
     "metadata": {},
     "output_type": "execute_result"
    }
   ],
   "source": [
    "y_vars"
   ]
  },
  {
   "cell_type": "code",
   "execution_count": 230,
   "metadata": {},
   "outputs": [
    {
     "name": "stdout",
     "output_type": "stream",
     "text": [
      "\n",
      "\n",
      " weeks \n",
      "\n",
      "AxesSubplot(0.125,0.125;0.775x0.755)\n",
      "AxesSubplot(0.125,0.125;0.775x0.755)\n",
      "                         0            1            2            3\n",
      "rsquared          0.631245     0.659294     0.579816     0.581101\n",
      "Intercept         -81.5247     -87.5826     -79.7318     -79.6952\n",
      "tonynom           -3.80509      -3.9351          NaN          NaN\n",
      "tonywin            12.3252      13.1864      10.3368      10.4513\n",
      "bestnom            8.84728      5.90204      7.61169      7.33077\n",
      "bestwin            7.77436     0.286944      6.60006      5.79487\n",
      "original           9.14787      4.58508      11.4584      11.1444\n",
      "family            -8.46205     -8.76572          NaN          NaN\n",
      "jukebox            13.5679      13.5927      12.1416      11.7876\n",
      "based             -3.87856      -2.0221          NaN          NaN\n",
      "pweeks             20.8825          NaN      2.59674          NaN\n",
      "pavggross     -3.96073e-05 -4.89562e-05          NaN          NaN\n",
      "pnumseats      -0.00165192  -0.00184984          NaN          NaN\n",
      "ppercentseats      -45.942     -29.5425          NaN          NaN\n",
      "pnum                   NaN      3.22495          NaN     0.390897\n",
      "fweeks            -1.05845          NaN          NaN          NaN\n",
      "favggross      3.72875e-05  3.33834e-05  1.94389e-05  1.99985e-05\n",
      "fnumseats      0.000304846  0.000373144  0.000120368   0.00011982\n",
      "fpercentseats      108.563      116.303      69.0932      69.0281\n",
      "fnum                   NaN    -0.209002          NaN          NaN\n",
      "\n",
      "\n",
      " tgross \n",
      "\n",
      "AxesSubplot(0.125,0.125;0.775x0.755)\n",
      "AxesSubplot(0.125,0.125;0.775x0.755)"
     ]
    },
    {
     "name": "stderr",
     "output_type": "stream",
     "text": [
      "/Users/zoemartiniak/anaconda3/lib/python3.6/site-packages/ipykernel_launcher.py:2: SettingWithCopyWarning: \n",
      "A value is trying to be set on a copy of a slice from a DataFrame\n",
      "\n",
      "See the caveats in the documentation: https://pandas.pydata.org/pandas-docs/stable/user_guide/indexing.html#returning-a-view-versus-a-copy\n",
      "  \n",
      "/Users/zoemartiniak/anaconda3/lib/python3.6/site-packages/ipykernel_launcher.py:2: SettingWithCopyWarning: \n",
      "A value is trying to be set on a copy of a slice from a DataFrame\n",
      "\n",
      "See the caveats in the documentation: https://pandas.pydata.org/pandas-docs/stable/user_guide/indexing.html#returning-a-view-versus-a-copy\n",
      "  \n"
     ]
    },
    {
     "name": "stdout",
     "output_type": "stream",
     "text": [
      "\n",
      "                         0            1            2            3\n",
      "rsquared          0.618203      0.61868     0.577775     0.579257\n",
      "Intercept     -9.99373e+07  -9.4814e+07 -5.31058e+07 -5.35406e+07\n",
      "tonynom       -5.88859e+06 -6.67979e+06          NaN          NaN\n",
      "tonywin        2.52348e+07  2.67535e+07  1.86587e+07  1.79501e+07\n",
      "bestnom        1.93949e+07  2.04299e+07  4.57924e+06  3.17398e+06\n",
      "bestwin         7.7912e+06 -2.26493e+07 -7.06148e+06          NaN\n",
      "original       8.63067e+06  1.11911e+07  2.07889e+07  2.00967e+07\n",
      "family        -1.28888e+07 -8.79616e+06          NaN          NaN\n",
      "jukebox        4.49602e+06      51460.2 -8.53574e+06  -8.1137e+06\n",
      "based         -3.05575e+06  3.28435e+06          NaN   1.2583e+06\n",
      "pweeks         1.95536e+07          NaN  2.62788e+06          NaN\n",
      "pavggross          19.9018      1.97229     -19.3479      -24.407\n",
      "pnumseats         -1618.69     -1494.03          NaN          NaN\n",
      "ppercentseats -3.71093e+07 -3.32776e+07          NaN          NaN\n",
      "pnum                   NaN  2.62342e+06          NaN       444892\n",
      "fweeks        -3.99601e+06          NaN          NaN          NaN\n",
      "favggross            52.46      89.2583      145.504      148.751\n",
      "fnumseats          514.646      341.889      53.8091      55.2517\n",
      "fpercentseats  1.11567e+08  7.12406e+07 -5.26962e+07 -5.32896e+07\n",
      "fnum                   NaN      -281989          NaN          NaN\n",
      "\n",
      "\n",
      " tavggross \n",
      "\n",
      "AxesSubplot(0.125,0.125;0.775x0.755)\n",
      "AxesSubplot(0.125,0.125;0.775x0.755)\n",
      "                       0         1         2         3\n",
      "rsquared        0.918547  0.922147  0.910055  0.910522\n",
      "Intercept         101393    146131   44930.9   33934.3\n",
      "tonynom         -2846.34  -3120.22       NaN       NaN\n",
      "tonywin          29623.5   27878.7     19627   20506.7\n",
      "bestnom          15757.5     17452  -21688.2  -16153.2\n",
      "bestwin         -28621.5  -50421.2       NaN       NaN\n",
      "original        -13884.6   6139.22       NaN   -6180.4\n",
      "family          -14633.1  -6059.04       NaN       NaN\n",
      "jukebox         -26054.7  -41304.2       NaN       NaN\n",
      "based            9850.93   13637.4   14523.2   14086.4\n",
      "pweeks          -22688.1       NaN       NaN       NaN\n",
      "pavggross       0.235275  0.200876  0.226135  0.244156\n",
      "pnumseats        1.14035    1.6669 -0.843099 -0.820163\n",
      "ppercentseats    89755.1   50033.5  -90685.6  -65674.9\n",
      "pnum                 NaN  -3764.88       NaN       NaN\n",
      "fweeks          -1633.08       NaN       NaN       NaN\n",
      "favggross       0.887395   1.01349  0.825931  0.826424\n",
      "fnumseats     -0.0639116 -0.618678       NaN       NaN\n",
      "fpercentseats    -197076   -346865       NaN       NaN\n",
      "fnum                 NaN   478.758       NaN  -82.3805\n",
      "\n",
      "\n",
      " tavggrosspoten \n",
      "\n",
      "AxesSubplot(0.125,0.125;0.775x0.755)\n",
      "AxesSubplot(0.125,0.125;0.775x0.755)\n"
     ]
    },
    {
     "name": "stderr",
     "output_type": "stream",
     "text": [
      "/Users/zoemartiniak/anaconda3/lib/python3.6/site-packages/ipykernel_launcher.py:2: SettingWithCopyWarning: \n",
      "A value is trying to be set on a copy of a slice from a DataFrame\n",
      "\n",
      "See the caveats in the documentation: https://pandas.pydata.org/pandas-docs/stable/user_guide/indexing.html#returning-a-view-versus-a-copy\n",
      "  \n",
      "/Users/zoemartiniak/anaconda3/lib/python3.6/site-packages/ipykernel_launcher.py:2: SettingWithCopyWarning: \n",
      "A value is trying to be set on a copy of a slice from a DataFrame\n",
      "\n",
      "See the caveats in the documentation: https://pandas.pydata.org/pandas-docs/stable/user_guide/indexing.html#returning-a-view-versus-a-copy\n",
      "  \n"
     ]
    },
    {
     "name": "stdout",
     "output_type": "stream",
     "text": [
      "                         0            1            2            3\n",
      "rsquared          0.930733     0.941414     0.903511     0.906378\n",
      "Intercept        -0.199439    -0.177912    -0.233531    -0.206682\n",
      "tonynom        -0.00314592  -0.00163145          NaN          NaN\n",
      "tonywin         0.00873746   0.00575304    0.0101087   0.00454931\n",
      "bestnom         0.00101226   -0.0107008   -0.0135343          NaN\n",
      "bestwin         -0.0177612    0.0148641          NaN    0.0387681\n",
      "original        -0.0119772   -0.0120941          NaN          NaN\n",
      "family         -0.00687233   -0.0107839          NaN          NaN\n",
      "jukebox         -0.0218418    -0.027925          NaN          NaN\n",
      "based          -0.00131395  -0.00837618          NaN          NaN\n",
      "pweeks          0.00158659          NaN   -0.0056516          NaN\n",
      "pavggross       9.0904e-09 -2.07257e-08  1.72366e-08          NaN\n",
      "pnumseats       -4.392e-07 -4.54116e-07          NaN          NaN\n",
      "ppercentseats    0.0268978      0.03453   0.00532495  -0.00516192\n",
      "pnum                   NaN   0.00022947          NaN -0.000772765\n",
      "fweeks          0.00565593          NaN  0.000305812          NaN\n",
      "favggross      4.47759e-07  4.76794e-07  2.59842e-07  2.62548e-07\n",
      "fnumseats     -6.55835e-07 -5.76056e-07          NaN          NaN\n",
      "fpercentseats     0.561335     0.530039     0.772296     0.732413\n",
      "fnum                   NaN  0.000618081          NaN  0.000106653\n",
      "\n",
      "\n",
      " tpercentseats \n",
      "\n",
      "AxesSubplot(0.125,0.125;0.775x0.755)\n",
      "AxesSubplot(0.125,0.125;0.775x0.755)\n",
      "                         0            1            2            3\n",
      "rsquared          0.964637     0.970089     0.956806     0.958076\n",
      "Intercept        0.0730864    0.0906856    0.0853084    0.0827525\n",
      "tonynom       -0.000157822 -8.53465e-05          NaN          NaN\n",
      "tonywin        -0.00275337  -0.00315936          NaN          NaN\n",
      "bestnom         0.00135356  0.000752149  -0.00370037   -0.0012459\n",
      "bestwin          0.0178469    0.0129035   0.00301539   0.00466561\n",
      "original       -0.00387514   0.00133535          NaN  -0.00534513\n",
      "family          0.00551176   0.00647721  0.000665037   0.00239068\n",
      "jukebox         -0.0039812  -0.00920296          NaN          NaN\n",
      "based           0.00197978   0.00242907   0.00382874   0.00374762\n",
      "pweeks          0.00199049          NaN   -0.0012063          NaN\n",
      "pavggross      2.97252e-08  1.25929e-08  1.70583e-08  2.43741e-08\n",
      "pnumseats     -2.62156e-07  2.27618e-07          NaN -1.13461e-07\n",
      "ppercentseats    0.0549481    0.0505851    0.0269047    0.0385054\n",
      "pnum                   NaN -0.000453141          NaN          NaN\n",
      "fweeks        -6.26218e-05          NaN          NaN          NaN\n",
      "favggross      2.54449e-09  3.76603e-08 -3.44016e-08 -3.05448e-08\n",
      "fnumseats     -7.93112e-08 -2.23605e-07          NaN          NaN\n",
      "fpercentseats     0.859014     0.819007     0.889055     0.882467\n",
      "fnum                   NaN   0.00016786          NaN -3.35765e-05\n",
      "\n",
      "\n",
      " more_than_year \n",
      "\n",
      "AxesSubplot(0.125,0.125;0.775x0.755)\n",
      "AxesSubplot(0.125,0.125;0.775x0.755)\n"
     ]
    },
    {
     "name": "stderr",
     "output_type": "stream",
     "text": [
      "/Users/zoemartiniak/anaconda3/lib/python3.6/site-packages/ipykernel_launcher.py:2: SettingWithCopyWarning: \n",
      "A value is trying to be set on a copy of a slice from a DataFrame\n",
      "\n",
      "See the caveats in the documentation: https://pandas.pydata.org/pandas-docs/stable/user_guide/indexing.html#returning-a-view-versus-a-copy\n",
      "  \n",
      "/Users/zoemartiniak/anaconda3/lib/python3.6/site-packages/ipykernel_launcher.py:2: SettingWithCopyWarning: \n",
      "A value is trying to be set on a copy of a slice from a DataFrame\n",
      "\n",
      "See the caveats in the documentation: https://pandas.pydata.org/pandas-docs/stable/user_guide/indexing.html#returning-a-view-versus-a-copy\n",
      "  \n"
     ]
    },
    {
     "name": "stdout",
     "output_type": "stream",
     "text": [
      "                         0            1            2            3\n",
      "rsquared          0.661833     0.671901     0.637288     0.632615\n",
      "Intercept        -0.410828    -0.409394    -0.335667    -0.293743\n",
      "tonynom          -0.017017   -0.0151083          NaN          NaN\n",
      "tonywin          0.0290634    0.0262853   0.00943549   0.00872071\n",
      "bestnom         0.00549108   -0.0302146   -0.0246699          NaN\n",
      "bestwin           0.250171     0.273154      0.25721     0.305195\n",
      "original        -0.0676342   -0.0858443          NaN          NaN\n",
      "family           0.0030935   0.00115314    0.0227036   0.00684178\n",
      "jukebox          0.0398818    0.0280219    -0.029704   -0.0367148\n",
      "based            0.0230297     0.020727  2.33167e-05   -0.0221954\n",
      "pweeks           0.0695594          NaN    0.0143892          NaN\n",
      "pavggross     -1.41288e-07  -2.2779e-07          NaN          NaN\n",
      "pnumseats     -4.81286e-06 -7.32261e-06          NaN          NaN\n",
      "ppercentseats    -0.210836    -0.147475          NaN          NaN\n",
      "pnum                   NaN    0.0137757          NaN   0.00220511\n",
      "fweeks          0.00477168          NaN    0.0113096          NaN\n",
      "favggross     -2.21775e-07 -1.52877e-07          NaN          NaN\n",
      "fnumseats      1.71874e-06  2.08879e-06  5.90835e-07  9.94234e-07\n",
      "fpercentseats     0.592743     0.526243    0.0891983    0.0913738\n",
      "fnum                   NaN  0.000208328          NaN  0.000832277\n"
     ]
    },
    {
     "data": {
      "image/png": "[encoded data removed]",
      "text/plain": [
       "<Figure size 432x288 with 1 Axes>"
      ]
     },
     "metadata": {},
     "output_type": "display_data"
    }
   ],
   "source": [
    "for var in y_vars:\n",
    "    print('\\n\\n',var, '\\n')\n",
    "    y = df[var]\n",
    "    X1, X2 = df[first_run], df[second_run]\n",
    "    fi1, fi2 = feature_importance(X1, y), feature_importance(X2, y)\n",
    "    fit_linear_regression(var ,\n",
    "            var_lists = [first_run, second_run, fi1, fi2])"
   ]
  },
  {
   "cell_type": "markdown",
   "metadata": {},
   "source": [
    "# Random Forest Regression"
   ]
  },
  {
   "cell_type": "code",
   "execution_count": 297,
   "metadata": {},
   "outputs": [],
   "source": [
    "x_vars = [c for c in df.columns if c not in y_vars]\n",
    "x = df[x_vars]\n",
    "y = df[y_vars]"
   ]
  },
  {
   "cell_type": "code",
   "execution_count": 298,
   "metadata": {},
   "outputs": [],
   "source": [
    "## Standardize the data\n",
    "## First, drop all rows for which the standard deviation is 0 (containing NaN)\n",
    "for i in x.index:\n",
    "    if x.T.std()[i] == 0:\n",
    "        \n",
    "        x.drop(i,inplace=True)\n",
    "        y.drop(i,inplace=True)\n",
    "        \n",
    "## Standardize the data by each feature, so that each feature has \n",
    "## mean zero and standard deviation = 1\n",
    "x = ((x - x.mean()) / x.std())"
   ]
  },
  {
   "cell_type": "code",
   "execution_count": 299,
   "metadata": {},
   "outputs": [],
   "source": [
    "weeks = y['weeks']\n",
    "tgross = y['tgross']\n",
    "tavggross = y['tavggross']\n",
    "tavggrosspoten = y['tavggrosspoten']\n",
    "tpercentseats = y['tpercentseats']\n",
    "more_than_year = y['more_than_year']"
   ]
  },
  {
   "cell_type": "markdown",
   "metadata": {},
   "source": [
    "### Weeks"
   ]
  },
  {
   "cell_type": "code",
   "execution_count": 310,
   "metadata": {},
   "outputs": [
    {
     "name": "stdout",
     "output_type": "stream",
     "text": [
      "Random Forest diagnostic score for training data: 0.8439005037059757\n",
      "Random Forest diagnostic score for testing data: 0.7848991380931503\n",
      "AxesSubplot(0.125,0.125;0.775x0.755)\n"
     ]
    },
    {
     "data": {
      "image/png": "[encoded data removed]",
      "text/plain": [
       "<Figure size 432x288 with 1 Axes>"
      ]
     },
     "metadata": {},
     "output_type": "display_data"
    }
   ],
   "source": [
    "## Train-test split the data to have 1/3 test size and 2/3 train size\n",
    "X_train, X_test, y_train, y_test = train_test_split(x, weeks, \n",
    "                                                    test_size=0.1, \n",
    "                                                    random_state=42)\n",
    "# Supervised transformation based on random forests\n",
    "rf = rfr(max_depth=None, n_estimators=10)\n",
    "rf.fit(X_train, y_train)\n",
    "y_pred = rf.predict(X_test)\n",
    "\n",
    "print('Random Forest diagnostic score for training data:',\n",
    "      rf.score(X_train, y_train))\n",
    "print('Random Forest diagnostic score for testing data:',\n",
    "      rf.score(X_test, y_test))\n",
    "\n",
    "matplotlib.rcParams.update({'font.size': 12})\n",
    "\n",
    "importances = rf.feature_importances_\n",
    "print(pd.Series(importances, index=x.columns)\n",
    "   .nlargest(20)\n",
    "   .plot(kind='barh' , title = 'Feature Importance Scores'))"
   ]
  },
  {
   "cell_type": "markdown",
   "metadata": {},
   "source": [
    "## Revenue (tgross)"
   ]
  },
  {
   "cell_type": "code",
   "execution_count": 309,
   "metadata": {},
   "outputs": [
    {
     "name": "stdout",
     "output_type": "stream",
     "text": [
      "Random Forest diagnostic score for training data: 0.852733600190511\n",
      "Random Forest diagnostic score for testing data: 0.8861392530073811\n",
      "AxesSubplot(0.125,0.125;0.775x0.755)\n"
     ]
    },
    {
     "data": {
      "image/png": "[encoded data removed]",
      "text/plain": [
       "<Figure size 432x288 with 1 Axes>"
      ]
     },
     "metadata": {},
     "output_type": "display_data"
    }
   ],
   "source": [
    "## Train-test split the data to have 1/3 test size and 2/3 train size\n",
    "X_train, X_test, y_train, y_test = train_test_split(x, tgross, \n",
    "                                                    test_size=0.1, \n",
    "                                                    random_state=42)\n",
    "# Supervised transformation based on random forests\n",
    "rf = rfr(max_depth=None, n_estimators=10)\n",
    "rf.fit(X_train, y_train)\n",
    "y_pred = rf.predict(X_test)\n",
    "\n",
    "print('Random Forest diagnostic score for training data:',\n",
    "      rf.score(X_train, y_train))\n",
    "print('Random Forest diagnostic score for testing data:',\n",
    "      rf.score(X_test, y_test))\n",
    "\n",
    "matplotlib.rcParams.update({'font.size': 12})\n",
    "\n",
    "importances = rf.feature_importances_\n",
    "print(pd.Series(importances, index=x.columns)\n",
    "   .nlargest(20)\n",
    "   .plot(kind='barh' , title = 'Feature Importance Scores'))"
   ]
  },
  {
   "cell_type": "markdown",
   "metadata": {},
   "source": [
    "## More Than 1 Year (more_than_year)"
   ]
  },
  {
   "cell_type": "code",
   "execution_count": 308,
   "metadata": {},
   "outputs": [
    {
     "name": "stdout",
     "output_type": "stream",
     "text": [
      "Random Forest diagnostic score for training data: 0.9953571428571428\n",
      "Random Forest diagnostic score for testing data: 0.9938888888888889\n",
      "AxesSubplot(0.125,0.125;0.775x0.755)\n"
     ]
    },
    {
     "data": {
      "image/png": "[encoded data removed]",
      "text/plain": [
       "<Figure size 432x288 with 1 Axes>"
      ]
     },
     "metadata": {},
     "output_type": "display_data"
    }
   ],
   "source": [
    "## Train-test split the data to have 1/3 test size and 2/3 train size\n",
    "X_train, X_test, y_train, y_test = train_test_split(x, more_than_year, \n",
    "                                                    test_size=0.1, \n",
    "                                                    random_state=42)\n",
    "\n",
    "# Supervised transformation based on random forests\n",
    "rf = rfr(max_depth=None, n_estimators=10)\n",
    "rf.fit(X_train, y_train)\n",
    "\n",
    "y_pred = rf.predict(X_test)\n",
    "\n",
    "print('Random Forest diagnostic score for training data:',\n",
    "      rf.score(X_train, y_train))\n",
    "print('Random Forest diagnostic score for testing data:',\n",
    "      rf.score(X_test, y_test))\n",
    "\n",
    "importances = rf.feature_importances_\n",
    "print(pd.Series(importances, index=x.columns)\n",
    "   .nlargest(20)\n",
    "   .plot(kind='barh' , title = 'Feature Importance Scores'))"
   ]
  },
  {
   "cell_type": "code",
   "execution_count": null,
   "metadata": {},
   "outputs": [],
   "source": []
  }
 ],
 "metadata": {
  "kernelspec": {
   "display_name": "Python 3",
   "language": "python",
   "name": "python3"
  },
  "language_info": {
   "codemirror_mode": {
    "name": "ipython",
    "version": 3
   },
   "file_extension": ".py",
   "mimetype": "text/x-python",
   "name": "python",
   "nbconvert_exporter": "python",
   "pygments_lexer": "ipython3",
   "version": "3.6.5"
  }
 },
 "nbformat": 4,
 "nbformat_minor": 2
}
